{
  "cells": [
    {
      "cell_type": "markdown",
      "metadata": {
        "id": "view-in-github",
        "colab_type": "text"
      },
      "source": [
        "<a href=\"https://colab.research.google.com/github/Sagnik20060902/skin_disease_detection_model/blob/main/Hackathon_cicgts_py.ipynb\" target=\"_parent\"><img src=\"https://colab.research.google.com/assets/colab-badge.svg\" alt=\"Open In Colab\"/></a>"
      ]
    },
    {
      "cell_type": "code",
      "execution_count": null,
      "metadata": {
        "colab": {
          "base_uri": "https://localhost:8080/"
        },
        "id": "AjKhfOZezGXx",
        "outputId": "df6d7b13-00b0-4629-f6f7-a2abb1b445bf"
      },
      "outputs": [
        {
          "output_type": "stream",
          "name": "stdout",
          "text": [
            "GPU available: [PhysicalDevice(name='/physical_device:GPU:0', device_type='GPU')]\n"
          ]
        }
      ],
      "source": [
        "import tensorflow as tf\n",
        "print(\"GPU available:\", tf.config.list_physical_devices('GPU'))"
      ]
    },
    {
      "cell_type": "code",
      "execution_count": null,
      "metadata": {
        "id": "BgErsbOvzGVq"
      },
      "outputs": [],
      "source": []
    },
    {
      "cell_type": "code",
      "execution_count": null,
      "metadata": {
        "id": "WI3cYeJchMCm"
      },
      "outputs": [],
      "source": [
        "from tensorflow.keras.layers import Dense , Dropout , Flatten , Conv2D , MaxPooling2D\n",
        "from tensorflow.keras.models import Sequential\n",
        "import pandas as pd\n",
        "import numpy as np\n"
      ]
    },
    {
      "cell_type": "code",
      "execution_count": null,
      "metadata": {
        "id": "_nLXELZOhtjt",
        "colab": {
          "base_uri": "https://localhost:8080/"
        },
        "outputId": "dde680d1-0bbb-4abb-c0f6-2cf49864c894"
      },
      "outputs": [
        {
          "output_type": "stream",
          "name": "stdout",
          "text": [
            "Using Colab cache for faster access to the 'skindiseasedataset' dataset.\n",
            "Path to dataset files: /kaggle/input/skindiseasedataset\n"
          ]
        }
      ],
      "source": [
        "import kagglehub\n",
        "\n",
        "# Download latest version\n",
        "path = kagglehub.dataset_download(\"pacificrm/skindiseasedataset\")\n",
        "\n",
        "print(\"Path to dataset files:\", path)"
      ]
    },
    {
      "cell_type": "code",
      "execution_count": null,
      "metadata": {
        "id": "UVdHKgevn0UD",
        "colab": {
          "base_uri": "https://localhost:8080/"
        },
        "outputId": "53e8151e-4b49-48ae-f950-75c02c3ca09e"
      },
      "outputs": [
        {
          "output_type": "stream",
          "name": "stdout",
          "text": [
            "Found 11128 images belonging to 22 classes.\n",
            "Found 2770 images belonging to 22 classes.\n"
          ]
        }
      ],
      "source": [
        "from tensorflow.keras.preprocessing.image import ImageDataGenerator\n",
        "datagen = ImageDataGenerator(rescale=1./255 , validation_split=0.2)\n",
        "\n",
        "train_data = datagen.flow_from_directory(\n",
        "    '/root/.cache/kagglehub/datasets/pacificrm/skindiseasedataset/versions/6/SkinDisease/SkinDisease/train',\n",
        "    target_size=(224, 224),\n",
        "    batch_size=32,\n",
        "    class_mode='categorical',\n",
        "    subset='training'\n",
        ")\n",
        "\n",
        "val_data = datagen.flow_from_directory(\n",
        "    '/root/.cache/kagglehub/datasets/pacificrm/skindiseasedataset/versions/6/SkinDisease/SkinDisease/train',\n",
        "    target_size=(224,224),\n",
        "    batch_size=32,\n",
        "    class_mode='categorical',\n",
        "    subset='validation'\n",
        ")\n",
        "\n"
      ]
    },
    {
      "cell_type": "code",
      "execution_count": null,
      "metadata": {
        "colab": {
          "base_uri": "https://localhost:8080/"
        },
        "id": "lzBJhbY6qCIi",
        "outputId": "1b4563aa-d730-434d-b7fc-5de8262e63f7"
      },
      "outputs": [
        {
          "output_type": "stream",
          "name": "stderr",
          "text": [
            "/usr/local/lib/python3.12/dist-packages/keras/src/layers/convolutional/base_conv.py:113: UserWarning: Do not pass an `input_shape`/`input_dim` argument to a layer. When using Sequential models, prefer using an `Input(shape)` object as the first layer in the model instead.\n",
            "  super().__init__(activity_regularizer=activity_regularizer, **kwargs)\n",
            "/usr/local/lib/python3.12/dist-packages/keras/src/trainers/data_adapters/py_dataset_adapter.py:121: UserWarning: Your `PyDataset` class should call `super().__init__(**kwargs)` in its constructor. `**kwargs` can include `workers`, `use_multiprocessing`, `max_queue_size`. Do not pass these arguments to `fit()`, as they will be ignored.\n",
            "  self._warn_if_super_not_called()\n"
          ]
        },
        {
          "output_type": "stream",
          "name": "stdout",
          "text": [
            "Epoch 1/10\n",
            "\u001b[1m348/348\u001b[0m \u001b[32m━━━━━━━━━━━━━━━━━━━━\u001b[0m\u001b[37m\u001b[0m \u001b[1m100s\u001b[0m 260ms/step - accuracy: 0.1340 - loss: 3.1184 - val_accuracy: 0.1874 - val_loss: 2.7816\n",
            "Epoch 2/10\n",
            "\u001b[1m348/348\u001b[0m \u001b[32m━━━━━━━━━━━━━━━━━━━━\u001b[0m\u001b[37m\u001b[0m \u001b[1m79s\u001b[0m 226ms/step - accuracy: 0.1892 - loss: 2.7502 - val_accuracy: 0.2253 - val_loss: 2.6395\n",
            "Epoch 3/10\n",
            "\u001b[1m348/348\u001b[0m \u001b[32m━━━━━━━━━━━━━━━━━━━━\u001b[0m\u001b[37m\u001b[0m \u001b[1m80s\u001b[0m 229ms/step - accuracy: 0.2528 - loss: 2.5226 - val_accuracy: 0.2249 - val_loss: 2.6293\n",
            "Epoch 4/10\n",
            "\u001b[1m348/348\u001b[0m \u001b[32m━━━━━━━━━━━━━━━━━━━━\u001b[0m\u001b[37m\u001b[0m \u001b[1m86s\u001b[0m 248ms/step - accuracy: 0.3231 - loss: 2.2443 - val_accuracy: 0.2412 - val_loss: 2.6444\n",
            "Epoch 5/10\n",
            "\u001b[1m348/348\u001b[0m \u001b[32m━━━━━━━━━━━━━━━━━━━━\u001b[0m\u001b[37m\u001b[0m \u001b[1m82s\u001b[0m 236ms/step - accuracy: 0.4264 - loss: 1.9152 - val_accuracy: 0.2307 - val_loss: 2.8214\n",
            "Epoch 6/10\n",
            "\u001b[1m348/348\u001b[0m \u001b[32m━━━━━━━━━━━━━━━━━━━━\u001b[0m\u001b[37m\u001b[0m \u001b[1m80s\u001b[0m 228ms/step - accuracy: 0.5009 - loss: 1.6299 - val_accuracy: 0.2513 - val_loss: 2.9578\n",
            "Epoch 7/10\n",
            "\u001b[1m348/348\u001b[0m \u001b[32m━━━━━━━━━━━━━━━━━━━━\u001b[0m\u001b[37m\u001b[0m \u001b[1m82s\u001b[0m 235ms/step - accuracy: 0.5879 - loss: 1.3335 - val_accuracy: 0.2523 - val_loss: 3.3146\n",
            "Epoch 8/10\n",
            "\u001b[1m348/348\u001b[0m \u001b[32m━━━━━━━━━━━━━━━━━━━━\u001b[0m\u001b[37m\u001b[0m \u001b[1m79s\u001b[0m 227ms/step - accuracy: 0.6706 - loss: 1.0941 - val_accuracy: 0.2303 - val_loss: 3.6652\n",
            "Epoch 9/10\n",
            "\u001b[1m348/348\u001b[0m \u001b[32m━━━━━━━━━━━━━━━━━━━━\u001b[0m\u001b[37m\u001b[0m \u001b[1m80s\u001b[0m 231ms/step - accuracy: 0.7305 - loss: 0.8955 - val_accuracy: 0.2354 - val_loss: 3.8548\n",
            "Epoch 10/10\n",
            "\u001b[1m348/348\u001b[0m \u001b[32m━━━━━━━━━━━━━━━━━━━━\u001b[0m\u001b[37m\u001b[0m \u001b[1m79s\u001b[0m 226ms/step - accuracy: 0.7748 - loss: 0.7244 - val_accuracy: 0.2415 - val_loss: 4.3844\n"
          ]
        },
        {
          "output_type": "execute_result",
          "data": {
            "text/plain": [
              "<keras.src.callbacks.history.History at 0x7f49b2133980>"
            ]
          },
          "metadata": {},
          "execution_count": 8
        }
      ],
      "source": [
        "model = Sequential([\n",
        "    Conv2D(128 , (3,3) , activation='relu' , input_shape=(224,224,3)),\n",
        "    MaxPooling2D(2,2),\n",
        "    Conv2D(32 , (3,3) , activation='relu'),\n",
        "    MaxPooling2D(2,2),\n",
        "    Flatten(),\n",
        "    Dense(128 , activation='relu'),\n",
        "    Dropout(0.5),\n",
        "    Dense(train_data.num_classes, activation='softmax')\n",
        "])\n",
        "\n",
        "model.compile(optimizer='adam' , loss='categorical_crossentropy' , metrics=['accuracy'])\n",
        "\n",
        "model.fit(train_data , validation_data=val_data , epochs=10)"
      ]
    },
    {
      "cell_type": "code",
      "execution_count": null,
      "metadata": {
        "id": "YQmOe7BWw2af"
      },
      "outputs": [],
      "source": [
        "dummy = np.random.rand(1, 224, 224, 3)\n",
        "prediction = model.predict(dummy)\n",
        "print(\"Prediction:\", prediction)"
      ]
    },
    {
      "cell_type": "code",
      "source": [
        "test_data = datagen.flow_from_directory(\n",
        "    '/root/.cache/kagglehub/datasets/pacificrm/skindiseasedataset/versions/6/SkinDisease/SkinDisease/test',\n",
        "    target_size=(224,224),\n",
        "    batch_size=32, class_mode = 'categorical'\n",
        ")"
      ],
      "metadata": {
        "colab": {
          "base_uri": "https://localhost:8080/"
        },
        "id": "kPpnvO9JhDkG",
        "outputId": "3a14d474-3164-4680-8613-a65287204a7a"
      },
      "execution_count": null,
      "outputs": [
        {
          "output_type": "stream",
          "name": "stdout",
          "text": [
            "Found 1546 images belonging to 22 classes.\n"
          ]
        }
      ]
    },
    {
      "cell_type": "code",
      "source": [
        "loss, accuracy = model.evaluate(test_data)\n",
        "print(\"Test Accuracy:\", accuracy)\n"
      ],
      "metadata": {
        "colab": {
          "base_uri": "https://localhost:8080/"
        },
        "id": "yR3D25rQjrBK",
        "outputId": "f54647b5-1376-438d-a20b-a34951501ca9"
      },
      "execution_count": null,
      "outputs": [
        {
          "output_type": "stream",
          "name": "stderr",
          "text": [
            "/usr/local/lib/python3.12/dist-packages/keras/src/trainers/data_adapters/py_dataset_adapter.py:121: UserWarning: Your `PyDataset` class should call `super().__init__(**kwargs)` in its constructor. `**kwargs` can include `workers`, `use_multiprocessing`, `max_queue_size`. Do not pass these arguments to `fit()`, as they will be ignored.\n",
            "  self._warn_if_super_not_called()\n"
          ]
        },
        {
          "output_type": "stream",
          "name": "stdout",
          "text": [
            "\u001b[1m49/49\u001b[0m \u001b[32m━━━━━━━━━━━━━━━━━━━━\u001b[0m\u001b[37m\u001b[0m \u001b[1m9s\u001b[0m 183ms/step - accuracy: 0.2967 - loss: 4.2272\n",
            "Test Accuracy: 0.2943078875541687\n"
          ]
        }
      ]
    },
    {
      "cell_type": "code",
      "source": [],
      "metadata": {
        "id": "40WiRTFSjv8n"
      },
      "execution_count": null,
      "outputs": []
    }
  ],
  "metadata": {
    "accelerator": "GPU",
    "colab": {
      "gpuType": "T4",
      "provenance": [],
      "authorship_tag": "ABX9TyNJyu7FTfKgqtosLtsRIBhl",
      "include_colab_link": true
    },
    "kernelspec": {
      "display_name": "Python 3",
      "name": "python3"
    },
    "language_info": {
      "name": "python"
    }
  },
  "nbformat": 4,
  "nbformat_minor": 0
}